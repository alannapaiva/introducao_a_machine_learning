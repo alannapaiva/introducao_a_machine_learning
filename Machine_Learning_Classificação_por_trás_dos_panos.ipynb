{
  "nbformat": 4,
  "nbformat_minor": 0,
  "metadata": {
    "colab": {
      "name": "Machine Learning: Classificação por trás dos panos",
      "provenance": []
    },
    "kernelspec": {
      "name": "python3",
      "display_name": "Python 3"
    },
    "language_info": {
      "name": "python"
    }
  },
  "cells": [
    {
      "cell_type": "markdown",
      "metadata": {
        "id": "P157Xqg6LZk5"
      },
      "source": [
        "# Dados referente ao porquinho e cachorro"
      ]
    },
    {
      "cell_type": "code",
      "metadata": {
        "colab": {
          "base_uri": "https://localhost:8080/"
        },
        "id": "qyQ2BjwZM0uV",
        "outputId": "038d026d-fff1-46dd-8494-63f5aadfd027"
      },
      "source": [
        "from sklearn.naive_bayes import MultinomialNB\n",
        "import numpy as np\n",
        "\n",
        "# [é gordinho?, tem perninha curta?, faz auau?]\n",
        "porco1 = [1, 1, 0]\n",
        "porco2 = [1, 1, 0]\n",
        "porco3 = [1, 1, 0]\n",
        "cachorro4 = [1, 1, 1]\n",
        "cachorro5 = [0, 1, 1]\n",
        "cachorro6 = [0, 1, 1]\n",
        "\n",
        "dados = [porco1, porco2, porco3, cachorro4, cachorro5, cachorro6]\n",
        "\n",
        "marcacoes = [1, 1, 1, -1, -1, -1]\n",
        "\n",
        "misterioso1 = [1, 1, 1]\n",
        "misterioso2 = [1, 0, 0]\n",
        "\n",
        "teste = [misterioso1, misterioso2]\n",
        "from sklearn.naive_bayes import MultinomialNB\n",
        "\n",
        "modelo = MultinomialNB()\n",
        "modelo.fit(dados, marcacoes)\n",
        "print(modelo.predict(teste))\n",
        "\n"
      ],
      "execution_count": 14,
      "outputs": [
        {
          "output_type": "stream",
          "text": [
            "[-1  1]\n"
          ],
          "name": "stdout"
        }
      ]
    },
    {
      "cell_type": "code",
      "metadata": {
        "colab": {
          "base_uri": "https://localhost:8080/"
        },
        "id": "zCH7Ag1-r3Bo",
        "outputId": "2414cbf8-ea91-40b3-a1e4-3aacf30f7e5b"
      },
      "source": [
        "dados"
      ],
      "execution_count": 22,
      "outputs": [
        {
          "output_type": "execute_result",
          "data": {
            "text/plain": [
              "[[1, 1, 0], [1, 1, 0], [1, 1, 0], [1, 1, 1], [0, 1, 1], [0, 1, 1]]"
            ]
          },
          "metadata": {
            "tags": []
          },
          "execution_count": 22
        }
      ]
    },
    {
      "cell_type": "code",
      "metadata": {
        "colab": {
          "base_uri": "https://localhost:8080/"
        },
        "id": "mi9uUryaquZ3",
        "outputId": "91a58a2a-8d9b-4219-9238-c30a22af33b7"
      },
      "source": [
        "porco1 = [1, 1, 0]\n",
        "porco2 = [1, 1, 0]\n",
        "porco3 = [1, 1, 0]\n",
        "cachorro4 = [1, 1, 1]\n",
        "cachorro5 = [0, 1, 1]\n",
        "cachorro6 = [0, 1, 1]\n",
        "\n",
        "dados = [porco1, porco2, porco3, cachorro4, cachorro5, cachorro6]\n",
        "\n",
        "marcacoes = [1, 1, 1, -1, -1, -1]\n",
        "\n",
        "from sklearn.naive_bayes import MultinomialNB\n",
        "\n",
        "modelo = MultinomialNB()\n",
        "modelo.fit(dados, marcacoes)\n",
        "\n",
        "misterioso1 = [1, 1, 1]\n",
        "misterioso2 = [1, 0, 0]\n",
        "misterioso3 = [0, 0, 1]\n",
        "\n",
        "teste = [misterioso1, misterioso2, misterioso3]\n",
        "marcacoes_teste = [-1, 1, -1]\n",
        "resultado = modelo.predict(teste)\n",
        "diferencas = resultado - marcacoes_teste\n",
        "\n",
        "acertos = [d for d in diferencas if d == 0]\n",
        "\n",
        "total_de_acertos = len(acertos)\n",
        "total_de_elementos = len(teste)\n",
        "\n",
        "taxa_de_acerto = 100.0 * total_de_acertos / total_de_elementos\n",
        "\n",
        "print(resultado)\n",
        "print(diferencas)\n",
        "\n",
        "modelo.fit(dados, marcacoes)         #para o modelo treinar com os nossos dados e marcações utiliza o método fit().\n",
        "print(modelo.predict(teste))\n",
        "diferencas = (resultado - marcacoes_teste)\n",
        "print(diferencas)\n",
        "\n",
        "print(\"Total de acertos do teste:\",total_de_acertos,\"\\n\", acertos)\n",
        "total_de_elementos = len(teste)\n",
        "print(\"Total de elementos da amostra: \",total_de_elementos)\n",
        "\n",
        "taxa_de_acerto = 100.0 * total_de_acertos / total_de_elementos\n",
        "print(\"Taxa de acerto foi: \",taxa_de_acerto)"
      ],
      "execution_count": 21,
      "outputs": [
        {
          "output_type": "stream",
          "text": [
            "[-1  1 -1]\n",
            "[0 0 0]\n",
            "[-1  1 -1]\n",
            "[0 0 0]\n",
            "Total de acertos do teste: 3 \n",
            " [0, 0, 0]\n",
            "Total de elementos da amostra:  3\n",
            "Taxa de acerto foi:  100.0\n"
          ],
          "name": "stdout"
        }
      ]
    },
    {
      "cell_type": "markdown",
      "metadata": {
        "id": "qleOGGdfc-RM"
      },
      "source": [
        "#Dados referente ao acesso de páginas do usuário no site"
      ]
    },
    {
      "cell_type": "code",
      "metadata": {
        "id": "H5PrfDRGZPQ8"
      },
      "source": [
        "import pandas as pd\n",
        "\n",
        "dados = pd.read_csv('/content/drive/MyDrive/UFC /2021.1/RP/acesso.csv') \n",
        "dados.head()"
      ],
      "execution_count": null,
      "outputs": []
    },
    {
      "cell_type": "code",
      "metadata": {
        "id": "67-qLjNWQjBl"
      },
      "source": [
        "from sklearn.naive_bayes import MultinomialNB\n",
        "\n",
        "x = dados[['acessou_home', 'acessou_como_funciona', 'acessou_contato']]\n",
        "y = dados[\"comprou\"]\n",
        "modelo = MultinomialNB()\n",
        "modelo.fit(x,y)\n",
        "\n",
        "#print(modelo.predict([[1,0,1], [0,1,0]]))\n",
        "\n",
        "#saber a taxa de acerto\n",
        "resultado = modelo.predict(x)\n",
        "diferencas = resultado - y            #y é o valor real\n",
        "\n",
        "acertos = [d for d in diferencas if d == 0]\n",
        "total_de_acertos = len(acertos)\n",
        "total_de_elementos = len(x)\n",
        "taxa_de_acerto = 100.0 * total_de_acertos / total_de_elementos\n",
        "\n",
        "print(\"Taxa de acertos foi: \", taxa_de_acerto)\n",
        "print(\"Total de elementos eh:\", total_de_elementos)"
      ],
      "execution_count": null,
      "outputs": []
    },
    {
      "cell_type": "code",
      "metadata": {
        "id": "I453LII0HzDc"
      },
      "source": [
        "#Separar 90% para treino e 10% para teste\n",
        "from sklearn.naive_bayes import MultinomialNB\n",
        "\n",
        "x = dados[['acessou_home', 'acessou_como_funciona', 'acessou_contato']]\n",
        "y = dados[\"comprou\"]\n",
        "\n",
        "treino_dados = x[:90]\n",
        "treino_marcacoes = y[:90]\n",
        "\n",
        "teste_dados = x[-9:]            #as ultimas 9 linhas\n",
        "teste_marcacoes = y[-9:]\n",
        "\n",
        "\n"
      ],
      "execution_count": null,
      "outputs": []
    },
    {
      "cell_type": "code",
      "metadata": {
        "id": "Feta2a5uMz38"
      },
      "source": [
        "modelo = MultinomialNB()\n",
        "modelo.fit(treino_dados, treino_marcacoes)\n",
        "\n",
        "resultado = modelo.predict(teste_dados)\n",
        "diferencas = resultado - teste_marcacoes  \n",
        "\n",
        "acertos = [d for d in diferencas if d == 0]\n",
        "total_de_acertos = len(acertos)\n",
        "total_de_elementos = len(teste_dados)\n",
        "taxa_de_acerto = 100.0 * total_de_acertos / total_de_elementos\n",
        "\n",
        "print(\"Taxa de acertos foi: \", taxa_de_acerto)\n",
        "print(\"Total de elementos eh:\", total_de_elementos)"
      ],
      "execution_count": null,
      "outputs": []
    },
    {
      "cell_type": "markdown",
      "metadata": {
        "id": "1eOcqLDvMkvE"
      },
      "source": [
        "# Classificação de variaveis categóricas"
      ]
    },
    {
      "cell_type": "code",
      "metadata": {
        "colab": {
          "base_uri": "https://localhost:8080/",
          "height": 204
        },
        "id": "B4HKDYtYMkBv",
        "outputId": "c34d1dc9-8c0a-4d04-e2f6-d76aac75e199"
      },
      "source": [
        "import pandas as pd\n",
        "\n",
        "df = pd.read_csv('/content/drive/MyDrive/Machine Learning/cursos.csv') \n",
        "df.head()"
      ],
      "execution_count": null,
      "outputs": [
        {
          "output_type": "execute_result",
          "data": {
            "text/html": [
              "<div>\n",
              "<style scoped>\n",
              "    .dataframe tbody tr th:only-of-type {\n",
              "        vertical-align: middle;\n",
              "    }\n",
              "\n",
              "    .dataframe tbody tr th {\n",
              "        vertical-align: top;\n",
              "    }\n",
              "\n",
              "    .dataframe thead th {\n",
              "        text-align: right;\n",
              "    }\n",
              "</style>\n",
              "<table border=\"1\" class=\"dataframe\">\n",
              "  <thead>\n",
              "    <tr style=\"text-align: right;\">\n",
              "      <th></th>\n",
              "      <th>home</th>\n",
              "      <th>busca</th>\n",
              "      <th>logado</th>\n",
              "      <th>comprou</th>\n",
              "    </tr>\n",
              "  </thead>\n",
              "  <tbody>\n",
              "    <tr>\n",
              "      <th>0</th>\n",
              "      <td>0</td>\n",
              "      <td>algoritmos</td>\n",
              "      <td>1</td>\n",
              "      <td>1</td>\n",
              "    </tr>\n",
              "    <tr>\n",
              "      <th>1</th>\n",
              "      <td>0</td>\n",
              "      <td>java</td>\n",
              "      <td>0</td>\n",
              "      <td>1</td>\n",
              "    </tr>\n",
              "    <tr>\n",
              "      <th>2</th>\n",
              "      <td>1</td>\n",
              "      <td>algoritmos</td>\n",
              "      <td>0</td>\n",
              "      <td>1</td>\n",
              "    </tr>\n",
              "    <tr>\n",
              "      <th>3</th>\n",
              "      <td>1</td>\n",
              "      <td>ruby</td>\n",
              "      <td>1</td>\n",
              "      <td>0</td>\n",
              "    </tr>\n",
              "    <tr>\n",
              "      <th>4</th>\n",
              "      <td>1</td>\n",
              "      <td>ruby</td>\n",
              "      <td>0</td>\n",
              "      <td>1</td>\n",
              "    </tr>\n",
              "  </tbody>\n",
              "</table>\n",
              "</div>"
            ],
            "text/plain": [
              "   home       busca  logado  comprou\n",
              "0     0  algoritmos       1        1\n",
              "1     0        java       0        1\n",
              "2     1  algoritmos       0        1\n",
              "3     1        ruby       1        0\n",
              "4     1        ruby       0        1"
            ]
          },
          "metadata": {
            "tags": []
          },
          "execution_count": 5
        }
      ]
    },
    {
      "cell_type": "code",
      "metadata": {
        "id": "IqUzZfzpzFKZ"
      },
      "source": [
        "\n",
        "X_df = df[['home', 'busca', 'logado']]\n",
        "Y_df = df['comprou']\n",
        "\n",
        "#transformamos uma variável categórica em diversas categorias de acordo com a quantidade de dados distintos,\n",
        "#esses valores são conhecidos como dummies, pois eles representam a mesma variável, porém com valores binários.\n",
        "Xdummies_df = pd.get_dummies(X_df).astype(int)\n",
        "Ydummies_df = Y_df\n",
        "\n",
        "#transformando os valores dos data frames em arrays\n",
        "X = Xdummies_df.values\n",
        "Y = Ydummies_df.values\n",
        "\n",
        "porcentagem_treino = 0.9\n",
        "\n",
        "tamanho_de_treino = int(porcentagem_treino * len(Y))\n",
        "tamanho_de_teste = len(Y) - tamanho_de_treino\n",
        "\n",
        "treino_dados = X[:tamanho_de_treino]\n",
        "treino_marcacoes = Y[:tamanho_de_treino]\n",
        "\n",
        "teste_dados = X[-tamanho_de_teste:]\n",
        "teste_marcacoes = Y[-tamanho_de_teste:]"
      ],
      "execution_count": null,
      "outputs": []
    },
    {
      "cell_type": "markdown",
      "metadata": {
        "id": "Q8iJrBQM8KVj"
      },
      "source": [
        "Testando o modelo"
      ]
    },
    {
      "cell_type": "code",
      "metadata": {
        "id": "E6tH9UY_FN_5",
        "colab": {
          "base_uri": "https://localhost:8080/"
        },
        "outputId": "ec0ad2d2-f1a7-4c70-8b1a-80b5cbbae1bd"
      },
      "source": [
        "from sklearn.naive_bayes import MultinomialNB\n",
        "modelo = MultinomialNB()\n",
        "modelo.fit(treino_dados, treino_marcacoes)\n",
        "\n",
        "resultado = modelo.predict(teste_dados)\n",
        "\n",
        "diferencas = resultado - teste_marcacoes\n",
        "\n",
        "acertos = [d for d in diferencas if d == 0]\n",
        "total_de_acertos = len(acertos)\n",
        "total_de_elementos = len(teste_dados)\n",
        "\n",
        "taxa_de_acerto = 100.0 * total_de_acertos / total_de_elementos\n",
        "\n",
        "print(taxa_de_acerto)\n",
        "print(total_de_elementos)"
      ],
      "execution_count": null,
      "outputs": [
        {
          "output_type": "stream",
          "text": [
            "82.0\n",
            "100\n"
          ],
          "name": "stdout"
        }
      ]
    },
    {
      "cell_type": "code",
      "metadata": {
        "colab": {
          "base_uri": "https://localhost:8080/"
        },
        "id": "6ymFpOACPp_m",
        "outputId": "ffd282ed-7f7e-4273-b3bc-26321c287cab"
      },
      "source": [
        "print(sum(Y))\n",
        "len(Y)"
      ],
      "execution_count": null,
      "outputs": [
        {
          "output_type": "stream",
          "text": [
            "832\n"
          ],
          "name": "stdout"
        },
        {
          "output_type": "execute_result",
          "data": {
            "text/plain": [
              "1000"
            ]
          },
          "metadata": {
            "tags": []
          },
          "execution_count": 8
        }
      ]
    },
    {
      "cell_type": "markdown",
      "metadata": {
        "id": "v-jd3yLY6B5b"
      },
      "source": [
        "Calculando a taxa de acertos e a taxa de acertos base "
      ]
    },
    {
      "cell_type": "code",
      "metadata": {
        "id": "h_IJFCdpUmpj",
        "colab": {
          "base_uri": "https://localhost:8080/"
        },
        "outputId": "f7956f6f-9464-4568-b3b9-47881df61f4c"
      },
      "source": [
        "#a  eficacia do algoritmo que chuta tudo 0 ou 1 \n",
        "acerto_de_um = len(Y[Y==0])\n",
        "acerto_de_zero = len(Y[Y==1])\n",
        "taxa_de_acerto_base = 100.0 * max(acerto_de_um, acerto_de_zero) / len(Y)\n",
        "\n",
        "taxa_de_acerto = 100.0 * total_de_acertos / total_de_elementos\n",
        "\n",
        "print(\"taxa de acertos: \",taxa_de_acerto)\n",
        "\n",
        "print(\"taxa de acerto base: \", taxa_de_acerto_base)"
      ],
      "execution_count": null,
      "outputs": [
        {
          "output_type": "stream",
          "text": [
            "taxa de acertos:  82.0\n",
            "taxa de acerto base:  0.0\n"
          ],
          "name": "stdout"
        }
      ]
    },
    {
      "cell_type": "markdown",
      "metadata": {
        "id": "n4Vyh9Bp59Tl"
      },
      "source": [
        "Calculando a quantidade de zeros e uns"
      ]
    },
    {
      "cell_type": "code",
      "metadata": {
        "id": "sVbkxaI-5w02"
      },
      "source": [
        "acerto_de_um = len(Y[Y==0])\n",
        "acerto_de_zero = len(Y[Y==1])\n",
        "#X[Y==0] #quem nao comprou "
      ],
      "execution_count": null,
      "outputs": []
    },
    {
      "cell_type": "markdown",
      "metadata": {
        "id": "_2RWeT_f7Kj0"
      },
      "source": [
        "## Mudando o resultado de binario para true e false"
      ]
    },
    {
      "cell_type": "code",
      "metadata": {
        "colab": {
          "base_uri": "https://localhost:8080/",
          "height": 204
        },
        "id": "yAnpzFM77OkF",
        "outputId": "8a1d692a-6ec5-48b0-b207-55ca2a94c9d8"
      },
      "source": [
        "import pandas as pd\n",
        "\n",
        "df = pd.read_csv('https://raw.githubusercontent.com/alura-cursos/machine-learning-introducao-a-classificacao/master/busca.csv') \n",
        "df.head()"
      ],
      "execution_count": null,
      "outputs": [
        {
          "output_type": "execute_result",
          "data": {
            "text/html": [
              "<div>\n",
              "<style scoped>\n",
              "    .dataframe tbody tr th:only-of-type {\n",
              "        vertical-align: middle;\n",
              "    }\n",
              "\n",
              "    .dataframe tbody tr th {\n",
              "        vertical-align: top;\n",
              "    }\n",
              "\n",
              "    .dataframe thead th {\n",
              "        text-align: right;\n",
              "    }\n",
              "</style>\n",
              "<table border=\"1\" class=\"dataframe\">\n",
              "  <thead>\n",
              "    <tr style=\"text-align: right;\">\n",
              "      <th></th>\n",
              "      <th>home</th>\n",
              "      <th>busca</th>\n",
              "      <th>logado</th>\n",
              "      <th>comprou</th>\n",
              "    </tr>\n",
              "  </thead>\n",
              "  <tbody>\n",
              "    <tr>\n",
              "      <th>0</th>\n",
              "      <td>0</td>\n",
              "      <td>algoritmos</td>\n",
              "      <td>1</td>\n",
              "      <td>sim</td>\n",
              "    </tr>\n",
              "    <tr>\n",
              "      <th>1</th>\n",
              "      <td>0</td>\n",
              "      <td>java</td>\n",
              "      <td>0</td>\n",
              "      <td>sim</td>\n",
              "    </tr>\n",
              "    <tr>\n",
              "      <th>2</th>\n",
              "      <td>1</td>\n",
              "      <td>algoritmos</td>\n",
              "      <td>0</td>\n",
              "      <td>sim</td>\n",
              "    </tr>\n",
              "    <tr>\n",
              "      <th>3</th>\n",
              "      <td>1</td>\n",
              "      <td>ruby</td>\n",
              "      <td>1</td>\n",
              "      <td>nao</td>\n",
              "    </tr>\n",
              "    <tr>\n",
              "      <th>4</th>\n",
              "      <td>1</td>\n",
              "      <td>ruby</td>\n",
              "      <td>0</td>\n",
              "      <td>sim</td>\n",
              "    </tr>\n",
              "  </tbody>\n",
              "</table>\n",
              "</div>"
            ],
            "text/plain": [
              "   home       busca  logado comprou\n",
              "0     0  algoritmos       1     sim\n",
              "1     0        java       0     sim\n",
              "2     1  algoritmos       0     sim\n",
              "3     1        ruby       1     nao\n",
              "4     1        ruby       0     sim"
            ]
          },
          "metadata": {
            "tags": []
          },
          "execution_count": 23
        }
      ]
    },
    {
      "cell_type": "code",
      "metadata": {
        "colab": {
          "base_uri": "https://localhost:8080/"
        },
        "id": "CgKnhdT47-97",
        "outputId": "71cedade-8580-4456-e933-de005fe848d4"
      },
      "source": [
        "from collections import Counter\n",
        "from sklearn.naive_bayes import MultinomialNB\n",
        "\n",
        "X_df = df[['home', 'busca', 'logado']]\n",
        "Y_df = df['comprou']\n",
        "\n",
        "#transformamos uma variável categórica em diversas categorias de acordo com a quantidade de dados distintos,\n",
        "#esses valores são conhecidos como dummies, pois eles representam a mesma variável, porém com valores binários.\n",
        "Xdummies_df = pd.get_dummies(X_df).astype(int)\n",
        "Ydummies_df = Y_df\n",
        "\n",
        "#transformando os valores dos data frames em arrays\n",
        "X = Xdummies_df.values\n",
        "Y = Ydummies_df.values\n",
        "\n",
        "porcentagem_treino = 0.9\n",
        "\n",
        "tamanho_de_treino = int(porcentagem_treino * len(Y))\n",
        "tamanho_de_teste = len(Y) - tamanho_de_treino\n",
        "\n",
        "treino_dados = X[:tamanho_de_treino]\n",
        "treino_marcacoes = Y[:tamanho_de_treino]\n",
        "\n",
        "teste_dados = X[-tamanho_de_teste:]\n",
        "teste_marcacoes = Y[-tamanho_de_teste:]\n",
        "\n",
        "#testando o modelo\n",
        "modelo = MultinomialNB()\n",
        "modelo.fit(treino_dados, treino_marcacoes)\n",
        "\n",
        "resultado = modelo.predict(teste_dados)\n",
        "acertos = (resultado == teste_marcacoes)  \n",
        "\n",
        "total_de_acertos = sum(acertos)\n",
        "total_de_elementos = len(teste_dados)\n",
        "print(\"Total de elementos: \",total_de_elementos)\n",
        "\n",
        "\n",
        "acerto_base = max(Counter(Y).values())\n",
        "taxa_de_acerto_base = 100.0 * acerto_base / len(Y)\n",
        "taxa_de_acerto = 100.0 * total_de_acertos / total_de_elementos\n",
        "\n",
        "print(\"taxa de acertos: \",taxa_de_acerto)\n",
        "print(\"taxa de acerto base: \", taxa_de_acerto_base)"
      ],
      "execution_count": null,
      "outputs": [
        {
          "output_type": "stream",
          "text": [
            "Total de elementos:  100\n",
            "taxa de acertos:  82.0\n",
            "taxa de acerto base:  83.2\n"
          ],
          "name": "stdout"
        }
      ]
    },
    {
      "cell_type": "markdown",
      "metadata": {
        "id": "lvXavhyN4rLC"
      },
      "source": [
        "# Naive Bayes e maxium a posteriori por trás dos panos"
      ]
    }
  ]
}